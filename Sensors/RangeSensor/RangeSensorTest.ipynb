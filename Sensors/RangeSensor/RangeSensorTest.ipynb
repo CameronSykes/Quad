{
 "cells": [
  {
   "cell_type": "code",
   "execution_count": 3,
   "id": "f7ec2987",
   "metadata": {},
   "outputs": [],
   "source": [
    "import RPi.GPIO as GPIO\n",
    "import RangeSensor\n",
    "import time"
   ]
  },
  {
   "cell_type": "code",
   "execution_count": 4,
   "id": "0235e395",
   "metadata": {},
   "outputs": [],
   "source": [
    "def lineGraph(inputArr):\n",
    "    inputFrame = pd.DataFrame(inputArr, columns=['Light Readings'])\n",
    "    fig = px.line(inputFrame, y=\"Light Readings\", text='Light Readings')\n",
    "    fig.update_traces(textposition='top center', textfont_size=1)\n",
    "    fig.show()"
   ]
  },
  {
   "cell_type": "code",
   "execution_count": 5,
   "id": "a8e20ef1",
   "metadata": {},
   "outputs": [
    {
     "name": "stdout",
     "output_type": "stream",
     "text": [
      "Door Sensor is initialized\n"
     ]
    }
   ],
   "source": [
    "bedroomSensor = RangeSensor.RangeSensor(12, 10, \"Door Sensor\")"
   ]
  },
  {
   "cell_type": "code",
   "execution_count": 9,
   "id": "688e786c",
   "metadata": {},
   "outputs": [
    {
     "name": "stdout",
     "output_type": "stream",
     "text": [
      "Door Sensor distance:\t\t\t\t84.36992168426514cm\n",
      "Door Sensor distance:\t\t\t\t83.56032371520996cm\n",
      "Door Sensor distance:\t\t\t\t80.61633110046387cm\n",
      "Door Sensor distance:\t\t\t\t82.7425479888916cm\n",
      "Door Sensor distance:\t\t\t\t84.02645587921143cm\n",
      "Door Sensor distance:\t\t\t\t83.55623483657837cm\n",
      "Door Sensor distance:\t\t\t\t80.6490421295166cm\n",
      "Door Sensor distance:\t\t\t\t80.6531310081482cm\n",
      "Door Sensor distance:\t\t\t\t80.6490421295166cm\n",
      "Door Sensor distance:\t\t\t\t80.63268661499023cm\n",
      "Door Sensor distance:\t\t\t\t83.539879322052cm\n",
      "Door Sensor distance:\t\t\t\t82.73028135299683cm\n",
      "Door Sensor distance:\t\t\t\t81.02930784225464cm\n",
      "Door Sensor distance:\t\t\t\t80.62450885772705cm\n",
      "Door Sensor distance:\t\t\t\t81.04157447814941cm\n",
      "Door Sensor distance:\t\t\t\t81.02113008499146cm\n",
      "Door Sensor distance:\t\t\t\t81.05384111404419cm\n",
      "Door Sensor distance:\t\t\t\t81.40548467636108cm\n",
      "Door Sensor distance:\t\t\t\t84.05507802963257cm\n",
      "Door Sensor distance:\t\t\t\t82.72210359573364cm\n"
     ]
    }
   ],
   "source": [
    "readings =[]\n",
    "for i in range(20):\n",
    "    readings.append(bedroomSensor.measure(False))\n",
    "    time.sleep(.5)"
   ]
  },
  {
   "cell_type": "code",
   "execution_count": 5,
   "id": "c3b9bb6e",
   "metadata": {},
   "outputs": [],
   "source": [
    "GPIO.cleanup()"
   ]
  }
 ],
 "metadata": {
  "kernelspec": {
   "display_name": "Python 3 (ipykernel)",
   "language": "python",
   "name": "python3"
  },
  "language_info": {
   "codemirror_mode": {
    "name": "ipython",
    "version": 3
   },
   "file_extension": ".py",
   "mimetype": "text/x-python",
   "name": "python",
   "nbconvert_exporter": "python",
   "pygments_lexer": "ipython3",
   "version": "3.7.3"
  }
 },
 "nbformat": 4,
 "nbformat_minor": 5
}
